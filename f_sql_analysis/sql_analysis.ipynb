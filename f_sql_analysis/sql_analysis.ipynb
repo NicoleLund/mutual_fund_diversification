{
 "metadata": {
  "language_info": {
   "codemirror_mode": {
    "name": "ipython",
    "version": 3
   },
   "file_extension": ".py",
   "mimetype": "text/x-python",
   "name": "python",
   "nbconvert_exporter": "python",
   "pygments_lexer": "ipython3",
   "version": "3.7.9"
  },
  "orig_nbformat": 2,
  "kernelspec": {
   "name": "python379jvsc74a57bd0972b5e8961cf972370136eb15a5ce67c848ddf5ca1c37bd5b3d0153e753bc276",
   "display_name": "Python 3.7.9 64-bit ('PythonData': conda)"
  }
 },
 "nbformat": 4,
 "nbformat_minor": 2,
 "cells": [
  {
   "source": [
    "# sql_analysis.ipynb\n",
    "----\n",
    "\n",
    "Written in the Python 3.7.9 Environment\n",
    "\n",
    "By Nicole Lund \n",
    "\n",
    "This Jupyter Notebook analyzes the postgreSQL database.\n",
    "\n",
    "The queries contained herin were developed in sql.sql and translated into sqlalchemy and pandas."
   ],
   "cell_type": "markdown",
   "metadata": {}
  },
  {
   "cell_type": "code",
   "execution_count": 1,
   "metadata": {},
   "outputs": [],
   "source": [
    "# Import Dependencies\n",
    "import sys\n",
    "import pandas as pd\n",
    "\n",
    "# Python SQL toolkit and Object Relational Mapper\n",
    "import sqlalchemy\n",
    "from sqlalchemy.ext.automap import automap_base\n",
    "from sqlalchemy.orm import Session\n",
    "from sqlalchemy import create_engine, func, inspect\n",
    "\n",
    "# Import database password\n",
    "# Note: user needs to update postgres_pswd.py file with their database information or\n",
    "# point to a personal untracked file\n",
    "from postgres_pswd import host, database, username, passwd\n",
    "if host == 'YOUR DATABASE HOST HERE':\n",
    "    sys.path.append(r\"C:\\Users\\nlund\\Documents\\GitHub\\untracked_files\")\n",
    "    from postgres_remote import host, database, username, passwd\n",
    "\n",
    "# Create engine to mutual_funds database\n",
    "engine_startup = 'postgresql://' + username + \":\" + passwd + \"@\" + host + '/' + database\n",
    "engine = create_engine(engine_startup)"
   ]
  },
  {
   "cell_type": "code",
   "execution_count": 2,
   "metadata": {},
   "outputs": [
    {
     "output_type": "execute_result",
     "data": {
      "text/plain": [
       "['sp500', 'fund_holdings']"
      ]
     },
     "metadata": {},
     "execution_count": 2
    }
   ],
   "source": [
    "# reflect the existing database into a new model\n",
    "Base = automap_base()\n",
    "\n",
    "# reflect the tables\n",
    "Base.prepare(engine, reflect=True)\n",
    "\n",
    "# View all of the classes that automap found\n",
    "Base.classes.keys()"
   ]
  },
  {
   "cell_type": "code",
   "execution_count": 3,
   "metadata": {},
   "outputs": [],
   "source": [
    "# Save references to each table\n",
    "sp500 = Base.classes.sp500\n",
    "holdings = Base.classes.fund_holdings"
   ]
  },
  {
   "cell_type": "code",
   "execution_count": 4,
   "metadata": {},
   "outputs": [],
   "source": [
    "# Create our session (link) from Python to the DB\n",
    "session = Session(bind=engine)"
   ]
  },
  {
   "cell_type": "code",
   "execution_count": 5,
   "metadata": {},
   "outputs": [
    {
     "output_type": "stream",
     "name": "stdout",
     "text": [
      "<class 'pandas.core.frame.DataFrame'>\n",
      "RangeIndex: 5 entries, 0 to 4\n",
      "Data columns (total 2 columns):\n",
      " #   Column              Non-Null Count  Dtype  \n",
      "---  ------              --------------  -----  \n",
      " 0   fund_name           5 non-null      object \n",
      " 1   total_market_value  5 non-null      float64\n",
      "dtypes: float64(1), object(1)\n",
      "memory usage: 208.0+ bytes\n",
      "None\n"
     ]
    },
    {
     "output_type": "execute_result",
     "data": {
      "text/plain": [
       "                               fund_name  total_market_value\n",
       "0         Voya LargeCap Growth Portfolio        6.532219e+09\n",
       "1  Voya Russell LargeCap Index Portfolio        1.244100e+09\n",
       "2        Voya U.S. Stock Index Portfolio        7.917050e+09\n",
       "3          Voya LargeCap Value Portfolio        1.113767e+09\n",
       "4     Voya Index Plus LargeCap Portfolio        9.599116e+08"
      ],
      "text/html": "<div>\n<style scoped>\n    .dataframe tbody tr th:only-of-type {\n        vertical-align: middle;\n    }\n\n    .dataframe tbody tr th {\n        vertical-align: top;\n    }\n\n    .dataframe thead th {\n        text-align: right;\n    }\n</style>\n<table border=\"1\" class=\"dataframe\">\n  <thead>\n    <tr style=\"text-align: right;\">\n      <th></th>\n      <th>fund_name</th>\n      <th>total_market_value</th>\n    </tr>\n  </thead>\n  <tbody>\n    <tr>\n      <th>0</th>\n      <td>Voya LargeCap Growth Portfolio</td>\n      <td>6.532219e+09</td>\n    </tr>\n    <tr>\n      <th>1</th>\n      <td>Voya Russell LargeCap Index Portfolio</td>\n      <td>1.244100e+09</td>\n    </tr>\n    <tr>\n      <th>2</th>\n      <td>Voya U.S. Stock Index Portfolio</td>\n      <td>7.917050e+09</td>\n    </tr>\n    <tr>\n      <th>3</th>\n      <td>Voya LargeCap Value Portfolio</td>\n      <td>1.113767e+09</td>\n    </tr>\n    <tr>\n      <th>4</th>\n      <td>Voya Index Plus LargeCap Portfolio</td>\n      <td>9.599116e+08</td>\n    </tr>\n  </tbody>\n</table>\n</div>"
     },
     "metadata": {},
     "execution_count": 5
    }
   ],
   "source": [
    "# Collect Total Market Value for each fund\n",
    "result = session.query(\\\n",
    "    holdings.fund_name, func.sum(holdings.market_value)).\\\n",
    "    group_by(holdings.fund_name).\\\n",
    "    all()\n",
    "\n",
    "# Build Pandas DataFrame\n",
    "holdings_fund_name = []\n",
    "holdings_market_value = []\n",
    "for row in result:\n",
    "    (fund_name, market_value) = row\n",
    "    holdings_fund_name.append(fund_name)\n",
    "    holdings_market_value.append(market_value)\n",
    "\n",
    "market_total_df = pd.DataFrame({'fund_name':holdings_fund_name,'total_market_value':holdings_market_value})\n",
    "\n",
    "market_total_df[['total_market_value']] = market_total_df[['total_market_value']].apply(pd.to_numeric)\n",
    "\n",
    "print(market_total_df.info())\n",
    "market_total_df"
   ]
  },
  {
   "cell_type": "code",
   "execution_count": 6,
   "metadata": {},
   "outputs": [
    {
     "output_type": "stream",
     "name": "stdout",
     "text": [
      "<class 'pandas.core.frame.DataFrame'>\nRangeIndex: 950 entries, 0 to 949\nData columns (total 4 columns):\n #   Column        Non-Null Count  Dtype  \n---  ------        --------------  -----  \n 0   fund_name     950 non-null    object \n 1   ticker        950 non-null    object \n 2   gics_sector   950 non-null    object \n 3   market_value  950 non-null    float64\ndtypes: float64(1), object(3)\nmemory usage: 29.8+ KB\nNone\n"
     ]
    },
    {
     "output_type": "execute_result",
     "data": {
      "text/plain": [
       "                            fund_name ticker             gics_sector  \\\n",
       "0  Voya Index Plus LargeCap Portfolio    ABT             Health Care   \n",
       "1  Voya Index Plus LargeCap Portfolio   ABBV             Health Care   \n",
       "2  Voya Index Plus LargeCap Portfolio    ACN  Information Technology   \n",
       "3  Voya Index Plus LargeCap Portfolio   ADBE  Information Technology   \n",
       "4  Voya Index Plus LargeCap Portfolio    AMD  Information Technology   \n",
       "\n",
       "   market_value  \n",
       "0    5016702.24  \n",
       "1    2232899.00  \n",
       "2    1238461.87  \n",
       "3    6519968.84  \n",
       "4     606273.36  "
      ],
      "text/html": "<div>\n<style scoped>\n    .dataframe tbody tr th:only-of-type {\n        vertical-align: middle;\n    }\n\n    .dataframe tbody tr th {\n        vertical-align: top;\n    }\n\n    .dataframe thead th {\n        text-align: right;\n    }\n</style>\n<table border=\"1\" class=\"dataframe\">\n  <thead>\n    <tr style=\"text-align: right;\">\n      <th></th>\n      <th>fund_name</th>\n      <th>ticker</th>\n      <th>gics_sector</th>\n      <th>market_value</th>\n    </tr>\n  </thead>\n  <tbody>\n    <tr>\n      <th>0</th>\n      <td>Voya Index Plus LargeCap Portfolio</td>\n      <td>ABT</td>\n      <td>Health Care</td>\n      <td>5016702.24</td>\n    </tr>\n    <tr>\n      <th>1</th>\n      <td>Voya Index Plus LargeCap Portfolio</td>\n      <td>ABBV</td>\n      <td>Health Care</td>\n      <td>2232899.00</td>\n    </tr>\n    <tr>\n      <th>2</th>\n      <td>Voya Index Plus LargeCap Portfolio</td>\n      <td>ACN</td>\n      <td>Information Technology</td>\n      <td>1238461.87</td>\n    </tr>\n    <tr>\n      <th>3</th>\n      <td>Voya Index Plus LargeCap Portfolio</td>\n      <td>ADBE</td>\n      <td>Information Technology</td>\n      <td>6519968.84</td>\n    </tr>\n    <tr>\n      <th>4</th>\n      <td>Voya Index Plus LargeCap Portfolio</td>\n      <td>AMD</td>\n      <td>Information Technology</td>\n      <td>606273.36</td>\n    </tr>\n  </tbody>\n</table>\n</div>"
     },
     "metadata": {},
     "execution_count": 6
    }
   ],
   "source": [
    "# Collect SP 500 stocks for each fund\n",
    "result = engine.execute(' \\\n",
    "    SELECT fund_holdings.fund_name, \\\n",
    "           fund_holdings.ticker, \\\n",
    "           sp500.gics_sector, \\\n",
    "           fund_holdings.market_value \\\n",
    "    FROM   sp500 \\\n",
    "    INNER  JOIN fund_holdings \\\n",
    "    ON     sp500.ticker = fund_holdings.ticker; \\\n",
    "    ')\n",
    "\n",
    "# Build Pandas DataFrame\n",
    "sp500_fund_name = []\n",
    "sp500_ticker = []\n",
    "sp500_gics_sector = []\n",
    "sp500_market_value = []\n",
    "for row in result:\n",
    "    (fund_name, ticker, gics_sector, market_value) = row\n",
    "    sp500_fund_name.append(fund_name)\n",
    "    sp500_ticker.append(ticker)\n",
    "    sp500_gics_sector.append(gics_sector)\n",
    "    sp500_market_value.append(market_value)\n",
    "\n",
    "sp500_holdings_df = pd.DataFrame({'fund_name':sp500_fund_name, 'ticker':sp500_ticker, 'gics_sector':sp500_gics_sector, 'market_value':sp500_market_value})\n",
    "sp500_holdings_df[['market_value']] = sp500_holdings_df[['market_value']].apply(pd.to_numeric)\n",
    "\n",
    "print(sp500_holdings_df.info())\n",
    "sp500_holdings_df.head()"
   ]
  },
  {
   "cell_type": "code",
   "execution_count": 7,
   "metadata": {},
   "outputs": [
    {
     "output_type": "execute_result",
     "data": {
      "text/plain": [
       "                                       sp500_market_value\n",
       "fund_name                                                \n",
       "Voya Index Plus LargeCap Portfolio           8.036399e+08\n",
       "Voya LargeCap Growth Portfolio               5.540274e+09\n",
       "Voya LargeCap Value Portfolio                9.717242e+08\n",
       "Voya Russell LargeCap Index Portfolio        1.197636e+09\n",
       "Voya U.S. Stock Index Portfolio              7.712523e+09"
      ],
      "text/html": "<div>\n<style scoped>\n    .dataframe tbody tr th:only-of-type {\n        vertical-align: middle;\n    }\n\n    .dataframe tbody tr th {\n        vertical-align: top;\n    }\n\n    .dataframe thead th {\n        text-align: right;\n    }\n</style>\n<table border=\"1\" class=\"dataframe\">\n  <thead>\n    <tr style=\"text-align: right;\">\n      <th></th>\n      <th>sp500_market_value</th>\n    </tr>\n    <tr>\n      <th>fund_name</th>\n      <th></th>\n    </tr>\n  </thead>\n  <tbody>\n    <tr>\n      <th>Voya Index Plus LargeCap Portfolio</th>\n      <td>8.036399e+08</td>\n    </tr>\n    <tr>\n      <th>Voya LargeCap Growth Portfolio</th>\n      <td>5.540274e+09</td>\n    </tr>\n    <tr>\n      <th>Voya LargeCap Value Portfolio</th>\n      <td>9.717242e+08</td>\n    </tr>\n    <tr>\n      <th>Voya Russell LargeCap Index Portfolio</th>\n      <td>1.197636e+09</td>\n    </tr>\n    <tr>\n      <th>Voya U.S. Stock Index Portfolio</th>\n      <td>7.712523e+09</td>\n    </tr>\n  </tbody>\n</table>\n</div>"
     },
     "metadata": {},
     "execution_count": 7
    }
   ],
   "source": [
    "# Collect Total SP500 Market Value for each fund\n",
    "sp500_market_total = sp500_holdings_df.groupby('fund_name').sum()\n",
    "sp500_market_total = sp500_market_total.rename(columns={'market_value':'sp500_market_value'})\n",
    "sp500_market_total"
   ]
  },
  {
   "cell_type": "code",
   "execution_count": 8,
   "metadata": {},
   "outputs": [
    {
     "output_type": "execute_result",
     "data": {
      "text/plain": [
       "                                       total_market_value_MM  \\\n",
       "fund_name                                                      \n",
       "Voya U.S. Stock Index Portfolio                     7917.050   \n",
       "Voya Russell LargeCap Index Portfolio               1244.100   \n",
       "Voya LargeCap Value Portfolio                       1113.767   \n",
       "Voya LargeCap Growth Portfolio                      6532.219   \n",
       "Voya Index Plus LargeCap Portfolio                   959.912   \n",
       "\n",
       "                                       sp500_market_value_MM  sp500_percentage  \n",
       "fund_name                                                                       \n",
       "Voya U.S. Stock Index Portfolio                     7712.523             97.42  \n",
       "Voya Russell LargeCap Index Portfolio               1197.636             96.27  \n",
       "Voya LargeCap Value Portfolio                        971.724             87.25  \n",
       "Voya LargeCap Growth Portfolio                      5540.274             84.81  \n",
       "Voya Index Plus LargeCap Portfolio                   803.640             83.72  "
      ],
      "text/html": "<div>\n<style scoped>\n    .dataframe tbody tr th:only-of-type {\n        vertical-align: middle;\n    }\n\n    .dataframe tbody tr th {\n        vertical-align: top;\n    }\n\n    .dataframe thead th {\n        text-align: right;\n    }\n</style>\n<table border=\"1\" class=\"dataframe\">\n  <thead>\n    <tr style=\"text-align: right;\">\n      <th></th>\n      <th>total_market_value_MM</th>\n      <th>sp500_market_value_MM</th>\n      <th>sp500_percentage</th>\n    </tr>\n    <tr>\n      <th>fund_name</th>\n      <th></th>\n      <th></th>\n      <th></th>\n    </tr>\n  </thead>\n  <tbody>\n    <tr>\n      <th>Voya U.S. Stock Index Portfolio</th>\n      <td>7917.050</td>\n      <td>7712.523</td>\n      <td>97.42</td>\n    </tr>\n    <tr>\n      <th>Voya Russell LargeCap Index Portfolio</th>\n      <td>1244.100</td>\n      <td>1197.636</td>\n      <td>96.27</td>\n    </tr>\n    <tr>\n      <th>Voya LargeCap Value Portfolio</th>\n      <td>1113.767</td>\n      <td>971.724</td>\n      <td>87.25</td>\n    </tr>\n    <tr>\n      <th>Voya LargeCap Growth Portfolio</th>\n      <td>6532.219</td>\n      <td>5540.274</td>\n      <td>84.81</td>\n    </tr>\n    <tr>\n      <th>Voya Index Plus LargeCap Portfolio</th>\n      <td>959.912</td>\n      <td>803.640</td>\n      <td>83.72</td>\n    </tr>\n  </tbody>\n</table>\n</div>"
     },
     "metadata": {},
     "execution_count": 8
    }
   ],
   "source": [
    "# Calculate percentage of SP 500 stock holdings\n",
    "\n",
    "# Join market_value and sp_market_value analyses\n",
    "holdings_analysis_df = market_total_df.join(sp500_market_total, on='fund_name',how='left')\n",
    "\n",
    "# Calculate SP 500 holdings percentage \n",
    "holdings_analysis_df['sp500_percentage'] = round(100*holdings_analysis_df['sp500_market_value']/holdings_analysis_df['total_market_value'],2)\n",
    "holdings_analysis_df = holdings_analysis_df.sort_values('sp500_percentage',ascending=False)\n",
    "\n",
    "# Convert market totals into millions\n",
    "holdings_analysis_df['total_market_value_MM'] = round(holdings_analysis_df['total_market_value']/1000000,3)\n",
    "holdings_analysis_df['sp500_market_value_MM'] = round(holdings_analysis_df['sp500_market_value']/1000000,3)\n",
    "\n",
    "# Remove unnecessary columns\n",
    "holdings_analysis_df = holdings_analysis_df[['fund_name','total_market_value_MM','sp500_market_value_MM','sp500_percentage']]\n",
    "\n",
    "# Set fund_name as index\n",
    "holdings_analysis_df = holdings_analysis_df.set_index('fund_name')\n",
    "holdings_analysis_df"
   ]
  },
  {
   "cell_type": "code",
   "execution_count": 9,
   "metadata": {},
   "outputs": [
    {
     "output_type": "execute_result",
     "data": {
      "text/plain": [
       "                                                              sector_market_value_MM  \\\n",
       "fund_name                             gics_sector                                      \n",
       "Voya Index Plus LargeCap Portfolio    Information Technology                 213.743   \n",
       "                                      Health Care                            119.579   \n",
       "                                      Consumer Discretionary                 105.477   \n",
       "Voya LargeCap Growth Portfolio        Information Technology                2513.144   \n",
       "                                      Consumer Discretionary                1099.587   \n",
       "                                      Communication Services                 593.484   \n",
       "Voya LargeCap Value Portfolio         Financials                             223.498   \n",
       "                                      Health Care                            137.534   \n",
       "                                      Communication Services                 101.679   \n",
       "Voya Russell LargeCap Index Portfolio Information Technology                 354.840   \n",
       "                                      Health Care                            163.470   \n",
       "                                      Communication Services                 159.930   \n",
       "Voya U.S. Stock Index Portfolio       Information Technology                2091.261   \n",
       "                                      Health Care                           1002.662   \n",
       "                                      Consumer Discretionary                 984.948   \n",
       "\n",
       "                                                              sector_percentage  \n",
       "fund_name                             gics_sector                                \n",
       "Voya Index Plus LargeCap Portfolio    Information Technology               26.6  \n",
       "                                      Health Care                          14.9  \n",
       "                                      Consumer Discretionary               13.1  \n",
       "Voya LargeCap Growth Portfolio        Information Technology               45.4  \n",
       "                                      Consumer Discretionary               19.8  \n",
       "                                      Communication Services               10.7  \n",
       "Voya LargeCap Value Portfolio         Financials                           23.0  \n",
       "                                      Health Care                          14.2  \n",
       "                                      Communication Services               10.5  \n",
       "Voya Russell LargeCap Index Portfolio Information Technology               29.6  \n",
       "                                      Health Care                          13.6  \n",
       "                                      Communication Services               13.4  \n",
       "Voya U.S. Stock Index Portfolio       Information Technology               27.1  \n",
       "                                      Health Care                          13.0  \n",
       "                                      Consumer Discretionary               12.8  "
      ],
      "text/html": "<div>\n<style scoped>\n    .dataframe tbody tr th:only-of-type {\n        vertical-align: middle;\n    }\n\n    .dataframe tbody tr th {\n        vertical-align: top;\n    }\n\n    .dataframe thead th {\n        text-align: right;\n    }\n</style>\n<table border=\"1\" class=\"dataframe\">\n  <thead>\n    <tr style=\"text-align: right;\">\n      <th></th>\n      <th></th>\n      <th>sector_market_value_MM</th>\n      <th>sector_percentage</th>\n    </tr>\n    <tr>\n      <th>fund_name</th>\n      <th>gics_sector</th>\n      <th></th>\n      <th></th>\n    </tr>\n  </thead>\n  <tbody>\n    <tr>\n      <th rowspan=\"3\" valign=\"top\">Voya Index Plus LargeCap Portfolio</th>\n      <th>Information Technology</th>\n      <td>213.743</td>\n      <td>26.6</td>\n    </tr>\n    <tr>\n      <th>Health Care</th>\n      <td>119.579</td>\n      <td>14.9</td>\n    </tr>\n    <tr>\n      <th>Consumer Discretionary</th>\n      <td>105.477</td>\n      <td>13.1</td>\n    </tr>\n    <tr>\n      <th rowspan=\"3\" valign=\"top\">Voya LargeCap Growth Portfolio</th>\n      <th>Information Technology</th>\n      <td>2513.144</td>\n      <td>45.4</td>\n    </tr>\n    <tr>\n      <th>Consumer Discretionary</th>\n      <td>1099.587</td>\n      <td>19.8</td>\n    </tr>\n    <tr>\n      <th>Communication Services</th>\n      <td>593.484</td>\n      <td>10.7</td>\n    </tr>\n    <tr>\n      <th rowspan=\"3\" valign=\"top\">Voya LargeCap Value Portfolio</th>\n      <th>Financials</th>\n      <td>223.498</td>\n      <td>23.0</td>\n    </tr>\n    <tr>\n      <th>Health Care</th>\n      <td>137.534</td>\n      <td>14.2</td>\n    </tr>\n    <tr>\n      <th>Communication Services</th>\n      <td>101.679</td>\n      <td>10.5</td>\n    </tr>\n    <tr>\n      <th rowspan=\"3\" valign=\"top\">Voya Russell LargeCap Index Portfolio</th>\n      <th>Information Technology</th>\n      <td>354.840</td>\n      <td>29.6</td>\n    </tr>\n    <tr>\n      <th>Health Care</th>\n      <td>163.470</td>\n      <td>13.6</td>\n    </tr>\n    <tr>\n      <th>Communication Services</th>\n      <td>159.930</td>\n      <td>13.4</td>\n    </tr>\n    <tr>\n      <th rowspan=\"3\" valign=\"top\">Voya U.S. Stock Index Portfolio</th>\n      <th>Information Technology</th>\n      <td>2091.261</td>\n      <td>27.1</td>\n    </tr>\n    <tr>\n      <th>Health Care</th>\n      <td>1002.662</td>\n      <td>13.0</td>\n    </tr>\n    <tr>\n      <th>Consumer Discretionary</th>\n      <td>984.948</td>\n      <td>12.8</td>\n    </tr>\n  </tbody>\n</table>\n</div>"
     },
     "metadata": {},
     "execution_count": 9
    }
   ],
   "source": [
    "# Collect top 3 Sectors for SP 500 stocks for each fund\n",
    "\n",
    "# Collect Total Sector Value by fund\n",
    "sp500_sector_weight_df = sp500_holdings_df.groupby(['fund_name','gics_sector']).sum()\n",
    "sp500_sector_weight_df = sp500_sector_weight_df.rename(columns={'market_value':'sector_market_value'})\n",
    "\n",
    "# Sort funds by sector_market_value\n",
    "sp500_sector_weight_group_df = sp500_sector_weight_df['sector_market_value'].groupby('fund_name',group_keys=False)\n",
    "sp500_sector_weight_sort_df = sp500_sector_weight_group_df.apply(lambda x: x.sort_values(ascending=False).head(3))\n",
    "sp500_sector_weight_df = sp500_sector_weight_sort_df.to_frame()\n",
    "\n",
    "# Get total SP 500 Market Value for comparison\n",
    "sp500_market_value_list = []\n",
    "for row in sp500_sector_weight_df.iterrows():\n",
    "    sp500_market_value_list.append(sp500_market_total.loc[row[0][0],'sp500_market_value'])\n",
    "sp500_sector_weight_df['sp500_market_value'] = sp500_market_value_list\n",
    "\n",
    "# Calculate SP500 sector percentage\n",
    "sp500_sector_weight_df['sector_percentage'] = round(100*sp500_sector_weight_df['sector_market_value']/sp500_sector_weight_df['sp500_market_value'],1)\n",
    "\n",
    "# Convert sector_market_value into millions\n",
    "sp500_sector_weight_df['sector_market_value_MM'] = round(sp500_sector_weight_df['sector_market_value']/1000000,3)\n",
    "\n",
    "# Collect relevant columns\n",
    "sp500_sector_weight_df = sp500_sector_weight_df[['sector_market_value_MM','sector_percentage']]\n",
    "\n",
    "sp500_sector_weight_df"
   ]
  },
  {
   "cell_type": "code",
   "execution_count": 10,
   "metadata": {},
   "outputs": [],
   "source": [
    "# Close Session\n",
    "session.close()"
   ]
  },
  {
   "cell_type": "code",
   "execution_count": null,
   "metadata": {},
   "outputs": [],
   "source": []
  }
 ]
}