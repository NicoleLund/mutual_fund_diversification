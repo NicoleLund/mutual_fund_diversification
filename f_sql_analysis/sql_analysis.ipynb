{
 "metadata": {
  "language_info": {
   "codemirror_mode": {
    "name": "ipython",
    "version": 3
   },
   "file_extension": ".py",
   "mimetype": "text/x-python",
   "name": "python",
   "nbconvert_exporter": "python",
   "pygments_lexer": "ipython3",
   "version": "3.7.9"
  },
  "orig_nbformat": 2,
  "kernelspec": {
   "name": "python379jvsc74a57bd0972b5e8961cf972370136eb15a5ce67c848ddf5ca1c37bd5b3d0153e753bc276",
   "display_name": "Python 3.7.9 64-bit ('PythonData': conda)"
  }
 },
 "nbformat": 4,
 "nbformat_minor": 2,
 "cells": [
  {
   "source": [
    "# sql_analysis.ipynb\n",
    "----\n",
    "\n",
    "Written in the Python 3.7.9 Environment\n",
    "\n",
    "By Nicole Lund \n",
    "\n",
    "This Jupyter Notebook analyzes the postgreSQL database.\n",
    "\n",
    "The queries contained herin were developed in sql.sql and translated into sqlalchemy and pandas."
   ],
   "cell_type": "markdown",
   "metadata": {}
  },
  {
   "cell_type": "code",
   "execution_count": 65,
   "metadata": {},
   "outputs": [],
   "source": [
    "# Import Dependencies\n",
    "import sys\n",
    "import pandas as pd\n",
    "\n",
    "# Python SQL toolkit and Object Relational Mapper\n",
    "import sqlalchemy\n",
    "from sqlalchemy.ext.automap import automap_base\n",
    "from sqlalchemy.orm import Session\n",
    "from sqlalchemy import create_engine, func, inspect\n",
    "\n",
    "# Import database password\n",
    "try:\n",
    "    from postgres_pswd import host, database, username, passwd\n",
    "    if host == 'YOUR DATABASE HOST HERE':\n",
    "        sys.path.append(r\"C:\\Users\\nlund\\Documents\\GitHub\\untracked_files\")\n",
    "        from postgres_remote import host, database, username, passwd\n",
    "except:\n",
    "    sys.path.append(r\"C:\\Users\\nlund\\Documents\\GitHub\\untracked_files\")\n",
    "    from postgres_remote import host, database, username, passwd\n",
    "\n",
    "# Create engine to mutual_funds database\n",
    "engine_startup = 'postgresql://' + username + \":\" + passwd + \"@\" + host + '/' + database\n",
    "engine = create_engine(engine_startup)"
   ]
  },
  {
   "cell_type": "code",
   "execution_count": 66,
   "metadata": {},
   "outputs": [
    {
     "output_type": "execute_result",
     "data": {
      "text/plain": [
       "['sp500', 'fund_holdings']"
      ]
     },
     "metadata": {},
     "execution_count": 66
    }
   ],
   "source": [
    "# reflect the existing database into a new model\n",
    "Base = automap_base()\n",
    "\n",
    "# reflect the tables\n",
    "Base.prepare(engine, reflect=True)\n",
    "\n",
    "# View all of the classes that automap found\n",
    "Base.classes.keys()"
   ]
  },
  {
   "cell_type": "code",
   "execution_count": 67,
   "metadata": {},
   "outputs": [],
   "source": [
    "# Save references to each table\n",
    "sp500 = Base.classes.sp500\n",
    "holdings = Base.classes.fund_holdings"
   ]
  },
  {
   "cell_type": "code",
   "execution_count": 68,
   "metadata": {},
   "outputs": [],
   "source": [
    "# Create our session (link) from Python to the DB\n",
    "session = Session(bind=engine)"
   ]
  },
  {
   "cell_type": "code",
   "execution_count": 88,
   "metadata": {},
   "outputs": [
    {
     "output_type": "stream",
     "name": "stdout",
     "text": [
      "<class 'pandas.core.frame.DataFrame'>\nRangeIndex: 5 entries, 0 to 4\nData columns (total 2 columns):\n #   Column              Non-Null Count  Dtype  \n---  ------              --------------  -----  \n 0   fund_name           5 non-null      object \n 1   total_market_value  5 non-null      float64\ndtypes: float64(1), object(1)\nmemory usage: 208.0+ bytes\nNone\n"
     ]
    },
    {
     "output_type": "execute_result",
     "data": {
      "text/plain": [
       "                               fund_name  total_market_value\n",
       "0         Voya LargeCap Growth Portfolio        6.532219e+09\n",
       "1  Voya Russell LargeCap Index Portfolio        1.244100e+09\n",
       "2        Voya U.S. Stock Index Portfolio        7.917050e+09\n",
       "3          Voya LargeCap Value Portfolio        1.113767e+09\n",
       "4     Voya Index Plus LargeCap Portfolio        9.599116e+08"
      ],
      "text/html": "<div>\n<style scoped>\n    .dataframe tbody tr th:only-of-type {\n        vertical-align: middle;\n    }\n\n    .dataframe tbody tr th {\n        vertical-align: top;\n    }\n\n    .dataframe thead th {\n        text-align: right;\n    }\n</style>\n<table border=\"1\" class=\"dataframe\">\n  <thead>\n    <tr style=\"text-align: right;\">\n      <th></th>\n      <th>fund_name</th>\n      <th>total_market_value</th>\n    </tr>\n  </thead>\n  <tbody>\n    <tr>\n      <th>0</th>\n      <td>Voya LargeCap Growth Portfolio</td>\n      <td>6.532219e+09</td>\n    </tr>\n    <tr>\n      <th>1</th>\n      <td>Voya Russell LargeCap Index Portfolio</td>\n      <td>1.244100e+09</td>\n    </tr>\n    <tr>\n      <th>2</th>\n      <td>Voya U.S. Stock Index Portfolio</td>\n      <td>7.917050e+09</td>\n    </tr>\n    <tr>\n      <th>3</th>\n      <td>Voya LargeCap Value Portfolio</td>\n      <td>1.113767e+09</td>\n    </tr>\n    <tr>\n      <th>4</th>\n      <td>Voya Index Plus LargeCap Portfolio</td>\n      <td>9.599116e+08</td>\n    </tr>\n  </tbody>\n</table>\n</div>"
     },
     "metadata": {},
     "execution_count": 88
    }
   ],
   "source": [
    "# Collect Total Market Value for each fund\n",
    "result = session.query(\\\n",
    "    holdings.fund_name, func.sum(holdings.market_value)).\\\n",
    "    group_by(holdings.fund_name).\\\n",
    "    all()\n",
    "\n",
    "# Build Pandas DataFrame\n",
    "holdings_fund_name = []\n",
    "holdings_market_value = []\n",
    "for row in result:\n",
    "    (fund_name, market_value) = row\n",
    "    holdings_fund_name.append(fund_name)\n",
    "    holdings_market_value.append(market_value)\n",
    "\n",
    "market_total_df = pd.DataFrame({'fund_name':holdings_fund_name,'total_market_value':holdings_market_value})\n",
    "\n",
    "market_total_df[['total_market_value']] = market_total_df[['total_market_value']].apply(pd.to_numeric)\n",
    "\n",
    "print(market_total_df.info())\n",
    "market_total_df"
   ]
  },
  {
   "cell_type": "code",
   "execution_count": 89,
   "metadata": {},
   "outputs": [
    {
     "output_type": "stream",
     "name": "stdout",
     "text": [
      "<class 'pandas.core.frame.DataFrame'>\nRangeIndex: 950 entries, 0 to 949\nData columns (total 4 columns):\n #   Column        Non-Null Count  Dtype  \n---  ------        --------------  -----  \n 0   fund_name     950 non-null    object \n 1   ticker        950 non-null    object \n 2   gics_sector   950 non-null    object \n 3   market_value  950 non-null    float64\ndtypes: float64(1), object(3)\nmemory usage: 29.8+ KB\n"
     ]
    }
   ],
   "source": [
    "# Collect SP 500 stocks for each fund\n",
    "result = engine.execute(' \\\n",
    "    SELECT fund_holdings.fund_name, \\\n",
    "           fund_holdings.ticker, \\\n",
    "           sp500.gics_sector, \\\n",
    "           fund_holdings.market_value \\\n",
    "    FROM   sp500 \\\n",
    "    INNER  JOIN fund_holdings \\\n",
    "    ON     sp500.ticker = fund_holdings.ticker; \\\n",
    "    ')\n",
    "\n",
    "# Build Pandas DataFrame\n",
    "sp500_fund_name = []\n",
    "sp500_ticker = []\n",
    "sp500_gics_sector = []\n",
    "sp500_market_value = []\n",
    "for row in result:\n",
    "    (fund_name, ticker, gics_sector, market_value) = row\n",
    "    sp500_fund_name.append(fund_name)\n",
    "    sp500_ticker.append(ticker)\n",
    "    sp500_gics_sector.append(gics_sector)\n",
    "    sp500_market_value.append(market_value)\n",
    "\n",
    "sp500_holdings_df = pd.DataFrame({'fund_name':sp500_fund_name, 'ticker':sp500_ticker, 'gics_sector':sp500_gics_sector, 'market_value':sp500_market_value})\n",
    "sp500_holdings_df[['market_value']] = sp500_holdings_df[['market_value']].apply(pd.to_numeric)\n",
    "sp500_holdings_df.info()"
   ]
  },
  {
   "cell_type": "code",
   "execution_count": 90,
   "metadata": {},
   "outputs": [
    {
     "output_type": "execute_result",
     "data": {
      "text/plain": [
       "                                       sp500_market_value\n",
       "fund_name                                                \n",
       "Voya Index Plus LargeCap Portfolio           8.036399e+08\n",
       "Voya LargeCap Growth Portfolio               5.540274e+09\n",
       "Voya LargeCap Value Portfolio                9.717242e+08\n",
       "Voya Russell LargeCap Index Portfolio        1.197636e+09\n",
       "Voya U.S. Stock Index Portfolio              7.712523e+09"
      ],
      "text/html": "<div>\n<style scoped>\n    .dataframe tbody tr th:only-of-type {\n        vertical-align: middle;\n    }\n\n    .dataframe tbody tr th {\n        vertical-align: top;\n    }\n\n    .dataframe thead th {\n        text-align: right;\n    }\n</style>\n<table border=\"1\" class=\"dataframe\">\n  <thead>\n    <tr style=\"text-align: right;\">\n      <th></th>\n      <th>sp500_market_value</th>\n    </tr>\n    <tr>\n      <th>fund_name</th>\n      <th></th>\n    </tr>\n  </thead>\n  <tbody>\n    <tr>\n      <th>Voya Index Plus LargeCap Portfolio</th>\n      <td>8.036399e+08</td>\n    </tr>\n    <tr>\n      <th>Voya LargeCap Growth Portfolio</th>\n      <td>5.540274e+09</td>\n    </tr>\n    <tr>\n      <th>Voya LargeCap Value Portfolio</th>\n      <td>9.717242e+08</td>\n    </tr>\n    <tr>\n      <th>Voya Russell LargeCap Index Portfolio</th>\n      <td>1.197636e+09</td>\n    </tr>\n    <tr>\n      <th>Voya U.S. Stock Index Portfolio</th>\n      <td>7.712523e+09</td>\n    </tr>\n  </tbody>\n</table>\n</div>"
     },
     "metadata": {},
     "execution_count": 90
    }
   ],
   "source": [
    "# Collect Total SP500 Market Value for each fund\n",
    "sp500_market_total = sp500_holdings_df.groupby('fund_name').sum()\n",
    "sp500_market_total = sp500_market_total.rename(columns={'market_value':'sp500_market_value'})\n",
    "sp500_market_total"
   ]
  },
  {
   "cell_type": "code",
   "execution_count": 93,
   "metadata": {},
   "outputs": [
    {
     "output_type": "execute_result",
     "data": {
      "text/plain": [
       "                                       total_market_value_MM  \\\n",
       "fund_name                                                      \n",
       "Voya U.S. Stock Index Portfolio                     7917.050   \n",
       "Voya Russell LargeCap Index Portfolio               1244.100   \n",
       "Voya LargeCap Value Portfolio                       1113.767   \n",
       "Voya LargeCap Growth Portfolio                      6532.219   \n",
       "Voya Index Plus LargeCap Portfolio                   959.912   \n",
       "\n",
       "                                       sp500_market_value_MM  sp500_percentage  \n",
       "fund_name                                                                       \n",
       "Voya U.S. Stock Index Portfolio                     7712.523             97.42  \n",
       "Voya Russell LargeCap Index Portfolio               1197.636             96.27  \n",
       "Voya LargeCap Value Portfolio                        971.724             87.25  \n",
       "Voya LargeCap Growth Portfolio                      5540.274             84.81  \n",
       "Voya Index Plus LargeCap Portfolio                   803.640             83.72  "
      ],
      "text/html": "<div>\n<style scoped>\n    .dataframe tbody tr th:only-of-type {\n        vertical-align: middle;\n    }\n\n    .dataframe tbody tr th {\n        vertical-align: top;\n    }\n\n    .dataframe thead th {\n        text-align: right;\n    }\n</style>\n<table border=\"1\" class=\"dataframe\">\n  <thead>\n    <tr style=\"text-align: right;\">\n      <th></th>\n      <th>total_market_value_MM</th>\n      <th>sp500_market_value_MM</th>\n      <th>sp500_percentage</th>\n    </tr>\n    <tr>\n      <th>fund_name</th>\n      <th></th>\n      <th></th>\n      <th></th>\n    </tr>\n  </thead>\n  <tbody>\n    <tr>\n      <th>Voya U.S. Stock Index Portfolio</th>\n      <td>7917.050</td>\n      <td>7712.523</td>\n      <td>97.42</td>\n    </tr>\n    <tr>\n      <th>Voya Russell LargeCap Index Portfolio</th>\n      <td>1244.100</td>\n      <td>1197.636</td>\n      <td>96.27</td>\n    </tr>\n    <tr>\n      <th>Voya LargeCap Value Portfolio</th>\n      <td>1113.767</td>\n      <td>971.724</td>\n      <td>87.25</td>\n    </tr>\n    <tr>\n      <th>Voya LargeCap Growth Portfolio</th>\n      <td>6532.219</td>\n      <td>5540.274</td>\n      <td>84.81</td>\n    </tr>\n    <tr>\n      <th>Voya Index Plus LargeCap Portfolio</th>\n      <td>959.912</td>\n      <td>803.640</td>\n      <td>83.72</td>\n    </tr>\n  </tbody>\n</table>\n</div>"
     },
     "metadata": {},
     "execution_count": 93
    }
   ],
   "source": [
    "# Collect percentage of SP 500 stock holdings\n",
    "\n",
    "# Join market_value and sp_market_value analyses\n",
    "holdings_analysis_df = market_total_df.join(sp500_market_total, on='fund_name',how='left')\n",
    "\n",
    "# Calculate SP 500 holdings percentage \n",
    "holdings_analysis_df['sp500_percentage'] = round(100*holdings_analysis_df['sp500_market_value']/holdings_analysis_df['total_market_value'],2)\n",
    "holdings_analysis_df = holdings_analysis_df.sort_values('sp500_percentage',ascending=False)\n",
    "\n",
    "# Convert market totals into millions\n",
    "holdings_analysis_df['total_market_value_MM'] = round(holdings_analysis_df['total_market_value']/1000000,3)\n",
    "\n",
    "holdings_analysis_df['sp500_market_value_MM'] = round(holdings_analysis_df['sp500_market_value']/1000000,3)\n",
    "\n",
    "holdings_analysis_df = holdings_analysis_df[['fund_name','total_market_value_MM','sp500_market_value_MM','sp500_percentage']]\n",
    "\n",
    "# Set fund_name as index\n",
    "holdings_analysis_df = holdings_analysis_df.set_index('fund_name')\n",
    "holdings_analysis_df"
   ]
  },
  {
   "cell_type": "code",
   "execution_count": null,
   "metadata": {},
   "outputs": [],
   "source": [
    "# Collect Sector Weights for SP 500 stocks for each fund\n"
   ]
  },
  {
   "cell_type": "code",
   "execution_count": null,
   "metadata": {},
   "outputs": [],
   "source": [
    "# Close Session\n",
    "session.close()"
   ]
  }
 ]
}