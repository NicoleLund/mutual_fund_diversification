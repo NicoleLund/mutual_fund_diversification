{
 "metadata": {
  "language_info": {
   "codemirror_mode": {
    "name": "ipython",
    "version": 3
   },
   "file_extension": ".py",
   "mimetype": "text/x-python",
   "name": "python",
   "nbconvert_exporter": "python",
   "pygments_lexer": "ipython3",
   "version": "3.8.5"
  },
  "orig_nbformat": 2,
  "kernelspec": {
   "name": "python385jvsc74a57bd061a7c723603a75b6cd1ccacb25a07b75fc9be4d41d61fd709e20fa91ecce9dac",
   "display_name": "Python 3.8.5 64-bit ('base': conda)"
  }
 },
 "nbformat": 4,
 "nbformat_minor": 2,
 "cells": [
  {
   "source": [
    "# sp500_scrape.ipynb\n",
    "----\n",
    "\n",
    "Written in the Python 3.7.9 Environment\n",
    "\n",
    "By Nicole Lund \n",
    "\n",
    "This Jupyter Notebook scrapes an html table of S&P500 companies from\n",
    "\n",
    "Wikimedia Foundation. (2021, June 4). List of S&amp;P 500 companies. Wikipedia. https://en.wikipedia.org/wiki/List_of_S%26P_500_companies. "
   ],
   "cell_type": "markdown",
   "metadata": {}
  },
  {
   "cell_type": "code",
   "execution_count": 1,
   "metadata": {},
   "outputs": [],
   "source": [
    "# Import Dependencies\n",
    "import pandas as pd"
   ]
  },
  {
   "cell_type": "code",
   "execution_count": 2,
   "metadata": {},
   "outputs": [],
   "source": [
    "# Source URL\n",
    "url = 'https://en.wikipedia.org/wiki/List_of_S%26P_500_companies'"
   ]
  },
  {
   "cell_type": "code",
   "execution_count": 3,
   "metadata": {},
   "outputs": [
    {
     "output_type": "execute_result",
     "data": {
      "text/plain": [
       "[    Symbol             Security SEC filings             GICS Sector  \\\n",
       " 0      MMM           3M Company     reports             Industrials   \n",
       " 1      ABT  Abbott Laboratories     reports             Health Care   \n",
       " 2     ABBV          AbbVie Inc.     reports             Health Care   \n",
       " 3     ABMD              Abiomed     reports             Health Care   \n",
       " 4      ACN            Accenture     reports  Information Technology   \n",
       " ..     ...                  ...         ...                     ...   \n",
       " 500    YUM      Yum! Brands Inc     reports  Consumer Discretionary   \n",
       " 501   ZBRA   Zebra Technologies     reports  Information Technology   \n",
       " 502    ZBH        Zimmer Biomet     reports             Health Care   \n",
       " 503   ZION        Zions Bancorp     reports              Financials   \n",
       " 504    ZTS               Zoetis     reports             Health Care   \n",
       " \n",
       "                       GICS Sub-Industry    Headquarters Location  \\\n",
       " 0              Industrial Conglomerates      St. Paul, Minnesota   \n",
       " 1                 Health Care Equipment  North Chicago, Illinois   \n",
       " 2                       Pharmaceuticals  North Chicago, Illinois   \n",
       " 3                 Health Care Equipment   Danvers, Massachusetts   \n",
       " 4        IT Consulting & Other Services          Dublin, Ireland   \n",
       " ..                                  ...                      ...   \n",
       " 500                         Restaurants     Louisville, Kentucky   \n",
       " 501  Electronic Equipment & Instruments   Lincolnshire, Illinois   \n",
       " 502               Health Care Equipment          Warsaw, Indiana   \n",
       " 503                      Regional Banks     Salt Lake City, Utah   \n",
       " 504                     Pharmaceuticals   Parsippany, New Jersey   \n",
       " \n",
       "     Date first added      CIK      Founded  \n",
       " 0         1976-08-09    66740         1902  \n",
       " 1         1964-03-31     1800         1888  \n",
       " 2         2012-12-31  1551152  2013 (1888)  \n",
       " 3         2018-05-31   815094         1981  \n",
       " 4         2011-07-06  1467373         1989  \n",
       " ..               ...      ...          ...  \n",
       " 500       1997-10-06  1041061         1997  \n",
       " 501       2019-12-23   877212         1969  \n",
       " 502       2001-08-07  1136869         1927  \n",
       " 503       2001-06-22   109380         1873  \n",
       " 504       2013-06-21  1555280         1952  \n",
       " \n",
       " [505 rows x 9 columns],\n",
       "                  Date  Added                             Removed  \\\n",
       "                  Date Ticker                    Security  Ticker   \n",
       " 0        June 4, 2021    NaN                         NaN     HFC   \n",
       " 1        June 3, 2021    OGN               Organon & Co.     NaN   \n",
       " 2        May 14, 2021    CRL  Charles River Laboratories    FLIR   \n",
       " 3      April 20, 2021    PTC                    PTC Inc.     VAR   \n",
       " 4      March 22, 2021   NXPI          NXP Semiconductors     FLS   \n",
       " ..                ...    ...                         ...     ...   \n",
       " 268  December 5, 2000    SBL         Symbol Technologies      OI   \n",
       " 269  December 5, 2000    AYE            Allegheny Energy     GRA   \n",
       " 270  December 5, 2000    ABK             Ambac Financial     CCK   \n",
       " 271     July 27, 2000   JDSU                JDS Uniphase     RAD   \n",
       " 272  December 7, 1999   YHOO                      Yahoo!     LDW   \n",
       " \n",
       "                                                                         Reason  \n",
       "                    Security                                             Reason  \n",
       " 0             HollyFrontier                   Market capitalization change.[6]  \n",
       " 1                       NaN  S&P 500/100 constituent Merck & Co. spun off O...  \n",
       " 2              FLIR Systems  S&P 500 constituent Teledyne Technologies Inc....  \n",
       " 3    Varian Medical Systems  Siemens Healthineers AG acquired Varian Medica...  \n",
       " 4                 Flowserve                   Market capitalization change.[9]  \n",
       " ..                      ...                                                ...  \n",
       " 268          Owens-Illinois                                Market Cap changes.  \n",
       " 269              W.R. Grace                                Market Cap changes.  \n",
       " 270          Crown Holdings                                Market Cap changes.  \n",
       " 271                 RiteAid                            Market Cap change.[213]  \n",
       " 272                 Laidlaw                            Market Cap change.[214]  \n",
       " \n",
       " [273 rows x 6 columns]]"
      ]
     },
     "metadata": {},
     "execution_count": 3
    }
   ],
   "source": [
    "# Scrape tables from URL\n",
    "tables_as_list = pd.read_html(url)\n",
    "tables_as_list"
   ]
  },
  {
   "cell_type": "code",
   "execution_count": 4,
   "metadata": {},
   "outputs": [
    {
     "output_type": "execute_result",
     "data": {
      "text/plain": [
       "    Symbol             Security SEC filings             GICS Sector  \\\n",
       "0      MMM           3M Company     reports             Industrials   \n",
       "1      ABT  Abbott Laboratories     reports             Health Care   \n",
       "2     ABBV          AbbVie Inc.     reports             Health Care   \n",
       "3     ABMD              Abiomed     reports             Health Care   \n",
       "4      ACN            Accenture     reports  Information Technology   \n",
       "..     ...                  ...         ...                     ...   \n",
       "500    YUM      Yum! Brands Inc     reports  Consumer Discretionary   \n",
       "501   ZBRA   Zebra Technologies     reports  Information Technology   \n",
       "502    ZBH        Zimmer Biomet     reports             Health Care   \n",
       "503   ZION        Zions Bancorp     reports              Financials   \n",
       "504    ZTS               Zoetis     reports             Health Care   \n",
       "\n",
       "                      GICS Sub-Industry    Headquarters Location  \\\n",
       "0              Industrial Conglomerates      St. Paul, Minnesota   \n",
       "1                 Health Care Equipment  North Chicago, Illinois   \n",
       "2                       Pharmaceuticals  North Chicago, Illinois   \n",
       "3                 Health Care Equipment   Danvers, Massachusetts   \n",
       "4        IT Consulting & Other Services          Dublin, Ireland   \n",
       "..                                  ...                      ...   \n",
       "500                         Restaurants     Louisville, Kentucky   \n",
       "501  Electronic Equipment & Instruments   Lincolnshire, Illinois   \n",
       "502               Health Care Equipment          Warsaw, Indiana   \n",
       "503                      Regional Banks     Salt Lake City, Utah   \n",
       "504                     Pharmaceuticals   Parsippany, New Jersey   \n",
       "\n",
       "    Date first added      CIK      Founded  \n",
       "0         1976-08-09    66740         1902  \n",
       "1         1964-03-31     1800         1888  \n",
       "2         2012-12-31  1551152  2013 (1888)  \n",
       "3         2018-05-31   815094         1981  \n",
       "4         2011-07-06  1467373         1989  \n",
       "..               ...      ...          ...  \n",
       "500       1997-10-06  1041061         1997  \n",
       "501       2019-12-23   877212         1969  \n",
       "502       2001-08-07  1136869         1927  \n",
       "503       2001-06-22   109380         1873  \n",
       "504       2013-06-21  1555280         1952  \n",
       "\n",
       "[505 rows x 9 columns]"
      ],
      "text/html": "<div>\n<style scoped>\n    .dataframe tbody tr th:only-of-type {\n        vertical-align: middle;\n    }\n\n    .dataframe tbody tr th {\n        vertical-align: top;\n    }\n\n    .dataframe thead th {\n        text-align: right;\n    }\n</style>\n<table border=\"1\" class=\"dataframe\">\n  <thead>\n    <tr style=\"text-align: right;\">\n      <th></th>\n      <th>Symbol</th>\n      <th>Security</th>\n      <th>SEC filings</th>\n      <th>GICS Sector</th>\n      <th>GICS Sub-Industry</th>\n      <th>Headquarters Location</th>\n      <th>Date first added</th>\n      <th>CIK</th>\n      <th>Founded</th>\n    </tr>\n  </thead>\n  <tbody>\n    <tr>\n      <th>0</th>\n      <td>MMM</td>\n      <td>3M Company</td>\n      <td>reports</td>\n      <td>Industrials</td>\n      <td>Industrial Conglomerates</td>\n      <td>St. Paul, Minnesota</td>\n      <td>1976-08-09</td>\n      <td>66740</td>\n      <td>1902</td>\n    </tr>\n    <tr>\n      <th>1</th>\n      <td>ABT</td>\n      <td>Abbott Laboratories</td>\n      <td>reports</td>\n      <td>Health Care</td>\n      <td>Health Care Equipment</td>\n      <td>North Chicago, Illinois</td>\n      <td>1964-03-31</td>\n      <td>1800</td>\n      <td>1888</td>\n    </tr>\n    <tr>\n      <th>2</th>\n      <td>ABBV</td>\n      <td>AbbVie Inc.</td>\n      <td>reports</td>\n      <td>Health Care</td>\n      <td>Pharmaceuticals</td>\n      <td>North Chicago, Illinois</td>\n      <td>2012-12-31</td>\n      <td>1551152</td>\n      <td>2013 (1888)</td>\n    </tr>\n    <tr>\n      <th>3</th>\n      <td>ABMD</td>\n      <td>Abiomed</td>\n      <td>reports</td>\n      <td>Health Care</td>\n      <td>Health Care Equipment</td>\n      <td>Danvers, Massachusetts</td>\n      <td>2018-05-31</td>\n      <td>815094</td>\n      <td>1981</td>\n    </tr>\n    <tr>\n      <th>4</th>\n      <td>ACN</td>\n      <td>Accenture</td>\n      <td>reports</td>\n      <td>Information Technology</td>\n      <td>IT Consulting &amp; Other Services</td>\n      <td>Dublin, Ireland</td>\n      <td>2011-07-06</td>\n      <td>1467373</td>\n      <td>1989</td>\n    </tr>\n    <tr>\n      <th>...</th>\n      <td>...</td>\n      <td>...</td>\n      <td>...</td>\n      <td>...</td>\n      <td>...</td>\n      <td>...</td>\n      <td>...</td>\n      <td>...</td>\n      <td>...</td>\n    </tr>\n    <tr>\n      <th>500</th>\n      <td>YUM</td>\n      <td>Yum! Brands Inc</td>\n      <td>reports</td>\n      <td>Consumer Discretionary</td>\n      <td>Restaurants</td>\n      <td>Louisville, Kentucky</td>\n      <td>1997-10-06</td>\n      <td>1041061</td>\n      <td>1997</td>\n    </tr>\n    <tr>\n      <th>501</th>\n      <td>ZBRA</td>\n      <td>Zebra Technologies</td>\n      <td>reports</td>\n      <td>Information Technology</td>\n      <td>Electronic Equipment &amp; Instruments</td>\n      <td>Lincolnshire, Illinois</td>\n      <td>2019-12-23</td>\n      <td>877212</td>\n      <td>1969</td>\n    </tr>\n    <tr>\n      <th>502</th>\n      <td>ZBH</td>\n      <td>Zimmer Biomet</td>\n      <td>reports</td>\n      <td>Health Care</td>\n      <td>Health Care Equipment</td>\n      <td>Warsaw, Indiana</td>\n      <td>2001-08-07</td>\n      <td>1136869</td>\n      <td>1927</td>\n    </tr>\n    <tr>\n      <th>503</th>\n      <td>ZION</td>\n      <td>Zions Bancorp</td>\n      <td>reports</td>\n      <td>Financials</td>\n      <td>Regional Banks</td>\n      <td>Salt Lake City, Utah</td>\n      <td>2001-06-22</td>\n      <td>109380</td>\n      <td>1873</td>\n    </tr>\n    <tr>\n      <th>504</th>\n      <td>ZTS</td>\n      <td>Zoetis</td>\n      <td>reports</td>\n      <td>Health Care</td>\n      <td>Pharmaceuticals</td>\n      <td>Parsippany, New Jersey</td>\n      <td>2013-06-21</td>\n      <td>1555280</td>\n      <td>1952</td>\n    </tr>\n  </tbody>\n</table>\n<p>505 rows × 9 columns</p>\n</div>"
     },
     "metadata": {},
     "execution_count": 4
    }
   ],
   "source": [
    "# Extract Table of Interest\n",
    "full_sp500_df = tables_as_list[0]\n",
    "full_sp500_df"
   ]
  },
  {
   "cell_type": "code",
   "execution_count": 5,
   "metadata": {},
   "outputs": [
    {
     "output_type": "execute_result",
     "data": {
      "text/plain": [
       "    Symbol             Security             GICS Sector  \\\n",
       "0      MMM           3M Company             Industrials   \n",
       "1      ABT  Abbott Laboratories             Health Care   \n",
       "2     ABBV          AbbVie Inc.             Health Care   \n",
       "3     ABMD              Abiomed             Health Care   \n",
       "4      ACN            Accenture  Information Technology   \n",
       "..     ...                  ...                     ...   \n",
       "500    YUM      Yum! Brands Inc  Consumer Discretionary   \n",
       "501   ZBRA   Zebra Technologies  Information Technology   \n",
       "502    ZBH        Zimmer Biomet             Health Care   \n",
       "503   ZION        Zions Bancorp              Financials   \n",
       "504    ZTS               Zoetis             Health Care   \n",
       "\n",
       "                      GICS Sub-Industry  \n",
       "0              Industrial Conglomerates  \n",
       "1                 Health Care Equipment  \n",
       "2                       Pharmaceuticals  \n",
       "3                 Health Care Equipment  \n",
       "4        IT Consulting & Other Services  \n",
       "..                                  ...  \n",
       "500                         Restaurants  \n",
       "501  Electronic Equipment & Instruments  \n",
       "502               Health Care Equipment  \n",
       "503                      Regional Banks  \n",
       "504                     Pharmaceuticals  \n",
       "\n",
       "[505 rows x 4 columns]"
      ],
      "text/html": "<div>\n<style scoped>\n    .dataframe tbody tr th:only-of-type {\n        vertical-align: middle;\n    }\n\n    .dataframe tbody tr th {\n        vertical-align: top;\n    }\n\n    .dataframe thead th {\n        text-align: right;\n    }\n</style>\n<table border=\"1\" class=\"dataframe\">\n  <thead>\n    <tr style=\"text-align: right;\">\n      <th></th>\n      <th>Symbol</th>\n      <th>Security</th>\n      <th>GICS Sector</th>\n      <th>GICS Sub-Industry</th>\n    </tr>\n  </thead>\n  <tbody>\n    <tr>\n      <th>0</th>\n      <td>MMM</td>\n      <td>3M Company</td>\n      <td>Industrials</td>\n      <td>Industrial Conglomerates</td>\n    </tr>\n    <tr>\n      <th>1</th>\n      <td>ABT</td>\n      <td>Abbott Laboratories</td>\n      <td>Health Care</td>\n      <td>Health Care Equipment</td>\n    </tr>\n    <tr>\n      <th>2</th>\n      <td>ABBV</td>\n      <td>AbbVie Inc.</td>\n      <td>Health Care</td>\n      <td>Pharmaceuticals</td>\n    </tr>\n    <tr>\n      <th>3</th>\n      <td>ABMD</td>\n      <td>Abiomed</td>\n      <td>Health Care</td>\n      <td>Health Care Equipment</td>\n    </tr>\n    <tr>\n      <th>4</th>\n      <td>ACN</td>\n      <td>Accenture</td>\n      <td>Information Technology</td>\n      <td>IT Consulting &amp; Other Services</td>\n    </tr>\n    <tr>\n      <th>...</th>\n      <td>...</td>\n      <td>...</td>\n      <td>...</td>\n      <td>...</td>\n    </tr>\n    <tr>\n      <th>500</th>\n      <td>YUM</td>\n      <td>Yum! Brands Inc</td>\n      <td>Consumer Discretionary</td>\n      <td>Restaurants</td>\n    </tr>\n    <tr>\n      <th>501</th>\n      <td>ZBRA</td>\n      <td>Zebra Technologies</td>\n      <td>Information Technology</td>\n      <td>Electronic Equipment &amp; Instruments</td>\n    </tr>\n    <tr>\n      <th>502</th>\n      <td>ZBH</td>\n      <td>Zimmer Biomet</td>\n      <td>Health Care</td>\n      <td>Health Care Equipment</td>\n    </tr>\n    <tr>\n      <th>503</th>\n      <td>ZION</td>\n      <td>Zions Bancorp</td>\n      <td>Financials</td>\n      <td>Regional Banks</td>\n    </tr>\n    <tr>\n      <th>504</th>\n      <td>ZTS</td>\n      <td>Zoetis</td>\n      <td>Health Care</td>\n      <td>Pharmaceuticals</td>\n    </tr>\n  </tbody>\n</table>\n<p>505 rows × 4 columns</p>\n</div>"
     },
     "metadata": {},
     "execution_count": 5
    }
   ],
   "source": [
    "# Remove Unneccesary Columns\n",
    "sp500_df = full_sp500_df[['Symbol','Security','GICS Sector','GICS Sub-Industry']]\n",
    "sp500_df"
   ]
  },
  {
   "cell_type": "code",
   "execution_count": 6,
   "metadata": {},
   "outputs": [
    {
     "output_type": "execute_result",
     "data": {
      "text/plain": [
       "              security_name             gics_sector  \\\n",
       "ticker                                                \n",
       "MMM              3M Company             Industrials   \n",
       "ABT     Abbott Laboratories             Health Care   \n",
       "ABBV            AbbVie Inc.             Health Care   \n",
       "ABMD                Abiomed             Health Care   \n",
       "ACN               Accenture  Information Technology   \n",
       "...                     ...                     ...   \n",
       "YUM         Yum! Brands Inc  Consumer Discretionary   \n",
       "ZBRA     Zebra Technologies  Information Technology   \n",
       "ZBH           Zimmer Biomet             Health Care   \n",
       "ZION          Zions Bancorp              Financials   \n",
       "ZTS                  Zoetis             Health Care   \n",
       "\n",
       "                         gics_sub_industry  \n",
       "ticker                                      \n",
       "MMM               Industrial Conglomerates  \n",
       "ABT                  Health Care Equipment  \n",
       "ABBV                       Pharmaceuticals  \n",
       "ABMD                 Health Care Equipment  \n",
       "ACN         IT Consulting & Other Services  \n",
       "...                                    ...  \n",
       "YUM                            Restaurants  \n",
       "ZBRA    Electronic Equipment & Instruments  \n",
       "ZBH                  Health Care Equipment  \n",
       "ZION                        Regional Banks  \n",
       "ZTS                        Pharmaceuticals  \n",
       "\n",
       "[505 rows x 3 columns]"
      ],
      "text/html": "<div>\n<style scoped>\n    .dataframe tbody tr th:only-of-type {\n        vertical-align: middle;\n    }\n\n    .dataframe tbody tr th {\n        vertical-align: top;\n    }\n\n    .dataframe thead th {\n        text-align: right;\n    }\n</style>\n<table border=\"1\" class=\"dataframe\">\n  <thead>\n    <tr style=\"text-align: right;\">\n      <th></th>\n      <th>security_name</th>\n      <th>gics_sector</th>\n      <th>gics_sub_industry</th>\n    </tr>\n    <tr>\n      <th>ticker</th>\n      <th></th>\n      <th></th>\n      <th></th>\n    </tr>\n  </thead>\n  <tbody>\n    <tr>\n      <th>MMM</th>\n      <td>3M Company</td>\n      <td>Industrials</td>\n      <td>Industrial Conglomerates</td>\n    </tr>\n    <tr>\n      <th>ABT</th>\n      <td>Abbott Laboratories</td>\n      <td>Health Care</td>\n      <td>Health Care Equipment</td>\n    </tr>\n    <tr>\n      <th>ABBV</th>\n      <td>AbbVie Inc.</td>\n      <td>Health Care</td>\n      <td>Pharmaceuticals</td>\n    </tr>\n    <tr>\n      <th>ABMD</th>\n      <td>Abiomed</td>\n      <td>Health Care</td>\n      <td>Health Care Equipment</td>\n    </tr>\n    <tr>\n      <th>ACN</th>\n      <td>Accenture</td>\n      <td>Information Technology</td>\n      <td>IT Consulting &amp; Other Services</td>\n    </tr>\n    <tr>\n      <th>...</th>\n      <td>...</td>\n      <td>...</td>\n      <td>...</td>\n    </tr>\n    <tr>\n      <th>YUM</th>\n      <td>Yum! Brands Inc</td>\n      <td>Consumer Discretionary</td>\n      <td>Restaurants</td>\n    </tr>\n    <tr>\n      <th>ZBRA</th>\n      <td>Zebra Technologies</td>\n      <td>Information Technology</td>\n      <td>Electronic Equipment &amp; Instruments</td>\n    </tr>\n    <tr>\n      <th>ZBH</th>\n      <td>Zimmer Biomet</td>\n      <td>Health Care</td>\n      <td>Health Care Equipment</td>\n    </tr>\n    <tr>\n      <th>ZION</th>\n      <td>Zions Bancorp</td>\n      <td>Financials</td>\n      <td>Regional Banks</td>\n    </tr>\n    <tr>\n      <th>ZTS</th>\n      <td>Zoetis</td>\n      <td>Health Care</td>\n      <td>Pharmaceuticals</td>\n    </tr>\n  </tbody>\n</table>\n<p>505 rows × 3 columns</p>\n</div>"
     },
     "metadata": {},
     "execution_count": 6
    }
   ],
   "source": [
    "# Rename Columns and Set Index\n",
    "sp500_df = sp500_df.rename(columns={'Symbol':'ticker','Security':'security_name','GICS Sector':'gics_sector','GICS Sub-Industry':'gics_sub_industry'})\n",
    "sp500_df = sp500_df.set_index('ticker')\n",
    "sp500_df"
   ]
  },
  {
   "cell_type": "code",
   "execution_count": 7,
   "metadata": {},
   "outputs": [
    {
     "output_type": "stream",
     "name": "stdout",
     "text": [
      "<class 'pandas.core.frame.DataFrame'>\nIndex: 505 entries, MMM to ZTS\nData columns (total 3 columns):\n #   Column             Non-Null Count  Dtype \n---  ------             --------------  ----- \n 0   security_name      505 non-null    object\n 1   gics_sector        505 non-null    object\n 2   gics_sub_industry  505 non-null    object\ndtypes: object(3)\nmemory usage: 15.8+ KB\n"
     ]
    }
   ],
   "source": [
    "# Review Data for NaNs - Result indicates no NaNs present in the data\n",
    "sp500_df.info()"
   ]
  },
  {
   "cell_type": "code",
   "execution_count": 8,
   "metadata": {},
   "outputs": [
    {
     "output_type": "execute_result",
     "data": {
      "text/plain": [
       "(505, 3)"
      ]
     },
     "metadata": {},
     "execution_count": 8
    }
   ],
   "source": [
    "# Review Data for Duplicates  - Result indicates no duplicates present in the data\n",
    "sp500_df.drop_duplicates().shape"
   ]
  },
  {
   "cell_type": "code",
   "execution_count": 9,
   "metadata": {},
   "outputs": [],
   "source": [
    "# Export DataFrame to csv\n",
    "sp500_df.to_csv('sp500.csv')"
   ]
  },
  {
   "cell_type": "code",
   "execution_count": null,
   "metadata": {},
   "outputs": [],
   "source": []
  }
 ]
}